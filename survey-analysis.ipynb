{
 "cells": [
  {
   "cell_type": "markdown",
   "metadata": {},
   "source": [
    "# Introduction\n",
    "This project is to showcase me using the CRISP-DM(Cross-Industry Process for Data Mining)), which is a methodolgy that provides structure when planning for a data mining project, standard on the 2018 Stack Overflow Developers Survey \n",
    "\n",
    "CRISP-DM consists of 6 steps.\n",
    "\n",
    "1. Business understanding\n",
    "2. Data understanding\n",
    "3. Data preparation\n",
    "4. Modeling\n",
    "5. Evaluation\n",
    "6. Deployment\n"
   ]
  },
  {
   "cell_type": "markdown",
   "metadata": {},
   "source": [
    "# Business understanding\n",
    "\n",
    "For my analysis, I would like to take a further dive into the Stack Overflow Developers Survey dataset and understand the answers that my fellow Latinx/Black community gave in the survey\n",
    "\n",
    "Questions that I would like to answer:\n",
    "\n",
    "~~How many U.S. Latinx/Black participated in the Survey~~ ?\n",
    "\n",
    "~~Which country had the highest of Latinx/Black participating in the Survey~~ ? \n",
    "\n",
    "Which type of education is prominent in the Latinx/Black community according to the survey ?\n",
    "\n",
    "Which programming language is being used the most in the Latinx/Black community according to the survey ?\n",
    "\n",
    "How many years did it take to learn how to code ? \n",
    "\n",
    "\n",
    "Columns that I will be analyzing in the dataset: \n",
    "```\n",
    "'Country','Race','FormalEducation',\n",
    "'YearsProgram',\n",
    "'Professional',\n",
    "'University','EmploymentStatus',\n",
    "'EducationTypes', \n",
    "'DifficultCommunication','SelfTaughtTypes',\n",
    "'IDE','HaveWorkedLanguage'\n",
    "```\n"
   ]
  },
  {
   "cell_type": "code",
   "execution_count": 128,
   "metadata": {},
   "outputs": [],
   "source": [
    "import pandas as pd\n",
    "import numpy as np\n",
    "import seaborn as sb\n",
    "import matplotlib.pyplot as plt\n",
    "from collections import defaultdict\n",
    "%matplotlib inline"
   ]
  },
  {
   "cell_type": "code",
   "execution_count": 173,
   "metadata": {},
   "outputs": [],
   "source": [
    "survey_data = pd.read_csv('survey_results_public.csv')\n",
    "schema = pd.read_csv('survey_results_schema.csv')\n",
    "column_of_interest = ['Country','Race','FormalEducation','YearsProgram','Professional','University','EmploymentStatus','EducationTypes',\n",
    "'DifficultCommunication','SelfTaughtTypes','IDE','HaveWorkedLanguage']"
   ]
  },
  {
   "cell_type": "code",
   "execution_count": 163,
   "metadata": {},
   "outputs": [],
   "source": [
    "def clean_multi_answers(df, index_name, column_name):\n",
    "    answer_df = total_count(df, index_name, column_name)\n",
    "    answer_df.set_index(index_name, inplace=True)\n",
    "    return answer_df\n",
    "\n",
    "def total_count(df, index_name, column_name):\n",
    "    new_df = df[column_name].value_counts().reset_index()\n",
    "    new_df.rename(columns={'index': index_name, column_name: 'count'}, inplace=True)\n",
    "    counts = defaultdict(int)\n",
    "    for answer in parse_multi_answer(df, column_name):\n",
    "        for idx in range(new_df.shape[0]):\n",
    "            developer_answers = [entry.strip() for entry in new_df[index_name][idx].split(\";\")]\n",
    "            if answer in developer_answers:\n",
    "                counts[answer] += int(new_df['count'][idx])\n",
    "    counts = pd.DataFrame(pd.Series(counts)).reset_index()\n",
    "    counts.columns = [index_name, 'count']\n",
    "    counts.sort_values('count', ascending=False, inplace=True)\n",
    "    return counts\n",
    "\n",
    "\n",
    "def parse_multi_answer(df, column):\n",
    "    answers = set()\n",
    "    for idx in df[df[column].notnull()].index:\n",
    "        for entry in df[column].iloc[idx].split(';'):\n",
    "            answers.add(entry.strip())\n",
    "    return answers\n",
    "\n",
    "def plot_various_race_distribution(df):\n",
    "    f, ax = plt.subplots(figsize=(7,5))\n",
    "    races = list(df.index)[::-1]\n",
    "    counts = df['count'].values[::-1]\n",
    "    ax.barh(races, counts, 0.35, color='orange')\n",
    "    ax.set_title(\"Different Races that filled out SOD survey\")   \n",
    "    plt.show()\n",
    "    \n",
    "def plot_latinx_black_distribution(df):\n",
    "    f, ax = plt.subplots(figsize=(10,3))\n",
    "    values_to_show = df.index.isin(['Hispanic or Latino/Latina', 'Black or of African descent'])\n",
    "    races = list(df[values_to_show].index)[::-1]\n",
    "    counts = df[values_to_show]['count'].values[::-1]\n",
    "    ax.barh(races, counts, 0.35, color='red')\n",
    "    ax.set_title('Latinx/Black participants that filled SOD survey') \n",
    "    plt.show()\n",
    "    "
   ]
  },
  {
   "cell_type": "code",
   "execution_count": 164,
   "metadata": {},
   "outputs": [
    {
     "data": {
      "image/png": "[encoded data removed]",
      "text/plain": [
       "<Figure size 504x360 with 1 Axes>"
      ]
     },
     "metadata": {
      "needs_background": "light"
     },
     "output_type": "display_data"
    },
    {
     "data": {
      "image/png": "[encoded data removed]",
      "text/plain": [
       "<Figure size 720x216 with 1 Axes>"
      ]
     },
     "metadata": {
      "needs_background": "light"
     },
     "output_type": "display_data"
    }
   ],
   "source": [
    "races_df = clean_multi_answers(survey_data, 'index_type', 'Race')\n",
    "plot_various_race_distribution(races_df)\n",
    "plot_latinx_black_distribution(races_df)"
   ]
  },
  {
   "cell_type": "code",
   "execution_count": 165,
   "metadata": {},
   "outputs": [
    {
     "name": "stdout",
     "output_type": "stream",
     "text": [
      "\n",
      "2687 individuals reported as Latinx/Black participated in the Stack Overflow Developer survey\n"
     ]
    }
   ],
   "source": [
    "values = races_df.index.isin(['Hispanic or Latino/Latina', 'Black or of African descent'])\n",
    "total = np.sum(races_df[values].values)\n",
    "print(\"\\n{} individuals reported as Latinx/Black participated in the Stack Overflow Developer survey\".format(total))"
   ]
  },
  {
   "cell_type": "code",
   "execution_count": 166,
   "metadata": {},
   "outputs": [],
   "source": [
    "question2 = survey_data[column_of_interest]"
   ]
  },
  {
   "cell_type": "code",
   "execution_count": 167,
   "metadata": {},
   "outputs": [],
   "source": [
    "def get_indexes_latinx_and_black(df):\n",
    "    indexes = []\n",
    "    for idx in range(df.shape[0]):\n",
    "        try:\n",
    "            developer_races = [race_entry.strip() for race_entry in df['Race'][idx].split(\";\")]\n",
    "            if 'Hispanic or Latino/Latina' in developer_races or 'Black or of African descent' in developer_races:\n",
    "                indexes.append(idx)\n",
    "        except:\n",
    "            continue\n",
    "    return indexes\n",
    "\n",
    "def get_indexes_latinx(df):\n",
    "    indexes = []\n",
    "    for idx in range(df.shape[0]):\n",
    "        try:\n",
    "            developer_races = [race_entry.strip() for race_entry in df['Race'][idx].split(\";\")]\n",
    "            if 'Hispanic or Latino/Latina' in developer_races and not 'Black or of African descent' in developer_races:\n",
    "                indexes.append(idx)\n",
    "        except:\n",
    "            continue\n",
    "    return indexes\n",
    "\n",
    "def get_indexes_black(df):\n",
    "    indexes = []\n",
    "    for idx in range(df.shape[0]):\n",
    "        try:\n",
    "            developer_races = [race_entry.strip() for race_entry in df['Race'][idx].split(\";\")]\n",
    "            if 'Black or of African descent' in developer_races and not 'Hispanic or Latino/Latina' in developer_races:\n",
    "                indexes.append(idx)\n",
    "        except:\n",
    "            continue\n",
    "    return indexes\n",
    "\n",
    "def get_indexes_nonlatinx_and_nonblack(df):\n",
    "    indexes = []\n",
    "    for idx in range(df.shape[0]):\n",
    "        try:\n",
    "            developer_races = [race_entry.strip() for race_entry in df['Race'][idx].split(\";\")]\n",
    "            if 'Hispanic or Latino/Latina' in developer_races or 'Black or of African descent' in developer_races:\n",
    "                continue\n",
    "            indexes.append(idx)\n",
    "        except:\n",
    "            continue\n",
    "    return indexes"
   ]
  },
  {
   "cell_type": "code",
   "execution_count": 168,
   "metadata": {},
   "outputs": [
    {
     "data": {
      "text/plain": [
       "<matplotlib.axes._subplots.AxesSubplot at 0x1258d2e10>"
      ]
     },
     "execution_count": 168,
     "metadata": {},
     "output_type": "execute_result"
    },
    {
     "data": {
      "image/png": "[encoded data removed]",
      "text/plain": [
       "<Figure size 432x288 with 1 Axes>"
      ]
     },
     "metadata": {
      "needs_background": "light"
     },
     "output_type": "display_data"
    }
   ],
   "source": [
    "#Latinx survey participants\n",
    "df = survey_data.loc[get_indexes_latinx(question2),:].reset_index()\n",
    "df['Country'].value_counts()[:6][::-1].plot(kind=\"barh\", \n",
    "                                             title=\"Latinx survey participants\",\n",
    "                                             color=\"red\")"
   ]
  },
  {
   "cell_type": "code",
   "execution_count": 169,
   "metadata": {},
   "outputs": [
    {
     "data": {
      "image/png": "[encoded data removed]",
      "text/plain": [
       "<Figure size 432x288 with 1 Axes>"
      ]
     },
     "metadata": {
      "needs_background": "light"
     },
     "output_type": "display_data"
    }
   ],
   "source": [
    "#Black or of African Descent survey participants\n",
    "df = survey_data.loc[get_indexes_black(question2),:].reset_index()\n",
    "ax = df['Country'].value_counts()[:6][::-1].plot(kind=\"barh\", \n",
    "                                                  title=\"Black or of African Descent survey participants\",\n",
    "                                                  color=\"red\")"
   ]
  },
  {
   "cell_type": "code",
   "execution_count": 170,
   "metadata": {},
   "outputs": [
    {
     "data": {
      "text/plain": [
       "<matplotlib.axes._subplots.AxesSubplot at 0x1306520f0>"
      ]
     },
     "execution_count": 170,
     "metadata": {},
     "output_type": "execute_result"
    },
    {
     "data": {
      "image/png": "[encoded data removed]",
      "text/plain": [
       "<Figure size 432x288 with 1 Axes>"
      ]
     },
     "metadata": {
      "needs_background": "light"
     },
     "output_type": "display_data"
    }
   ],
   "source": [
    "#Both Latinx and Black/African Descent\n",
    "df = survey_data.loc[get_indexes_latinx_and_black(question2),:].reset_index()\n",
    "df['Country'].value_counts()[:6][::-1].plot(kind=\"barh\", \n",
    "                                             title=\"Latinx and Black or of African Descent survey participants\",\n",
    "                                             color=\"orange\")"
   ]
  },
  {
   "cell_type": "code",
   "execution_count": 174,
   "metadata": {},
   "outputs": [],
   "source": [
    "question3 = survey_data[column_of_interest]"
   ]
  },
  {
   "cell_type": "code",
   "execution_count": 176,
   "metadata": {},
   "outputs": [],
   "source": [
    "rebuttle_question3 = survey_data[column_of_interest]"
   ]
  },
  {
   "cell_type": "code",
   "execution_count": 177,
   "metadata": {},
   "outputs": [],
   "source": [
    "question3 = survey_data.loc[get_indexes_latinx_and_black(question3), :].reset_index()"
   ]
  },
  {
   "cell_type": "code",
   "execution_count": 178,
   "metadata": {},
   "outputs": [],
   "source": [
    "rebuttle_question3 = survey_data.loc[get_indexes_nonlatinx_and_nonblack(rebuttle_question3), :].reset_index()"
   ]
  },
  {
   "cell_type": "code",
   "execution_count": 201,
   "metadata": {},
   "outputs": [
    {
     "data": {
      "text/plain": [
       "Bachelor's degree                                                    1201\n",
       "Some college/university study without earning a bachelor's degree     563\n",
       "Master's degree                                                       369\n",
       "Secondary school                                                      274\n",
       "Professional degree                                                    76\n",
       "Doctoral degree                                                        51\n",
       "Primary/elementary school                                              35\n",
       "I prefer not to answer                                                 32\n",
       "I never completed any formal education                                 11\n",
       "Name: FormalEducation, dtype: int64"
      ]
     },
     "execution_count": 201,
     "metadata": {},
     "output_type": "execute_result"
    }
   ],
   "source": [
    "question3['FormalEducation'].value_counts()"
   ]
  },
  {
   "cell_type": "code",
   "execution_count": 199,
   "metadata": {
    "collapsed": true
   },
   "outputs": [
    {
     "data": {
      "text/plain": [
       "Bachelor's degree                                                    12876\n",
       "Master's degree                                                       6983\n",
       "Some college/university study without earning a bachelor's degree     4991\n",
       "Secondary school                                                      3308\n",
       "Doctoral degree                                                        855\n",
       "Primary/elementary school                                              526\n",
       "I prefer not to answer                                                 387\n",
       "Professional degree                                                    324\n",
       "I never completed any formal education                                 171\n",
       "Name: FormalEducation, dtype: int64"
      ]
     },
     "execution_count": 199,
     "metadata": {},
     "output_type": "execute_result"
    }
   ],
   "source": [
    "rebuttle_question3['FormalEducation'].value_counts()"
   ]
  },
  {
   "cell_type": "code",
   "execution_count": 181,
   "metadata": {},
   "outputs": [
    {
     "name": "stdout",
     "output_type": "stream",
     "text": [
      "Education Type for latinx/black survey pariticipants\n",
      "                           count\n",
      "education_type                  \n",
      "Self-taught                 1742\n",
      "Online course               1142\n",
      "On-the-job training          772\n",
      "Open source contributions    659\n",
      "Hackathon                    499\n",
      "Coding competition           471\n",
      "Part-time/evening course     426\n",
      "Industry certification       318\n",
      "Bootcamp                     199\n"
     ]
    }
   ],
   "source": [
    "print(\"Education Type for latinx/black survey pariticipants\")\n",
    "print(clean_multi_answers(question3, 'education_type', 'EducationTypes'))"
   ]
  },
  {
   "cell_type": "code",
   "execution_count": 182,
   "metadata": {},
   "outputs": [
    {
     "name": "stdout",
     "output_type": "stream",
     "text": [
      "Education Type for Non latinx/black survey pariticipants\n",
      "                           count\n",
      "education_type                  \n",
      "Self-taught                20486\n",
      "Online course               9888\n",
      "On-the-job training         9421\n",
      "Open source contributions   8769\n",
      "Hackathon                   5325\n",
      "Coding competition          4899\n",
      "Industry certification      3236\n",
      "Part-time/evening course    3054\n",
      "Bootcamp                    1846\n"
     ]
    }
   ],
   "source": [
    "print(\"Education Type for non latinx/black survey pariticipants\")\n",
    "print(clean_multi_answers(rebuttle_question3, 'education_type', 'EducationTypes'))"
   ]
  },
  {
   "cell_type": "code",
   "execution_count": 198,
   "metadata": {},
   "outputs": [
    {
     "name": "stdout",
     "output_type": "stream",
     "text": [
      "Coding Language for non latinx/black survey pariticipants\n",
      "            count\n",
      "code_type        \n",
      "JavaScript  18710\n",
      "SQL         15346\n",
      "Java        11700\n",
      "C#          10307\n",
      "Python       9614\n"
     ]
    }
   ],
   "source": [
    "print(\"Coding Language for non latinx/black survey pariticipants\")\n",
    "print(clean_multi_answers(rebuttle_question3, 'code_type', 'HaveWorkedLanguage')[:5])"
   ]
  },
  {
   "cell_type": "code",
   "execution_count": 231,
   "metadata": {},
   "outputs": [
    {
     "name": "stdout",
     "output_type": "stream",
     "text": [
      "Coding Language for latinx/black survey pariticipants\n",
      "            count\n",
      "code_type        \n",
      "JavaScript   1726\n",
      "SQL          1379\n",
      "Java         1112\n",
      "PHP           831\n",
      "C#            830\n"
     ]
    }
   ],
   "source": [
    "print(\"Coding Language for latinx/black survey pariticipants\")\n",
    "print(clean_multi_answers(question3, 'code_type', 'HaveWorkedLanguage')[:5])"
   ]
  },
  {
   "cell_type": "code",
   "execution_count": 227,
   "metadata": {},
   "outputs": [
    {
     "data": {
      "text/plain": [
       "2612"
      ]
     },
     "execution_count": 227,
     "metadata": {},
     "output_type": "execute_result"
    }
   ],
   "source": [
    "question3['Professional'].value_counts().sum()"
   ]
  },
  {
   "cell_type": "code",
   "execution_count": 226,
   "metadata": {},
   "outputs": [
    {
     "data": {
      "text/plain": [
       "30421"
      ]
     },
     "execution_count": 226,
     "metadata": {},
     "output_type": "execute_result"
    }
   ],
   "source": [
    "rebuttle_question3['Professional'].value_counts().sum()"
   ]
  },
  {
   "cell_type": "code",
   "execution_count": 224,
   "metadata": {},
   "outputs": [
    {
     "data": {
      "text/plain": [
       "2612"
      ]
     },
     "execution_count": 224,
     "metadata": {},
     "output_type": "execute_result"
    }
   ],
   "source": [
    "question3['YearsProgram'].value_counts().sum()"
   ]
  },
  {
   "cell_type": "code",
   "execution_count": 225,
   "metadata": {},
   "outputs": [
    {
     "data": {
      "text/plain": [
       "30392"
      ]
     },
     "execution_count": 225,
     "metadata": {},
     "output_type": "execute_result"
    }
   ],
   "source": [
    "rebuttle_question3['YearsProgram'].value_counts().sum()"
   ]
  },
  {
   "cell_type": "code",
   "execution_count": 212,
   "metadata": {},
   "outputs": [
    {
     "data": {
      "text/plain": [
       "Disagree             566\n",
       "Somewhat agree       549\n",
       "Agree                407\n",
       "Strongly disagree    221\n",
       "Strongly agree       204\n",
       "Name: FriendsDevelopers, dtype: int64"
      ]
     },
     "execution_count": 212,
     "metadata": {},
     "output_type": "execute_result"
    }
   ],
   "source": [
    "question3['FriendsDevelopers'].value_counts()"
   ]
  },
  {
   "cell_type": "code",
   "execution_count": 213,
   "metadata": {},
   "outputs": [
    {
     "data": {
      "text/plain": [
       "Disagree             7084\n",
       "Somewhat agree       5668\n",
       "Agree                5293\n",
       "Strongly disagree    2350\n",
       "Strongly agree       1977\n",
       "Name: FriendsDevelopers, dtype: int64"
      ]
     },
     "execution_count": 213,
     "metadata": {},
     "output_type": "execute_result"
    }
   ],
   "source": [
    "rebuttle_question3['FriendsDevelopers'].value_counts()"
   ]
  },
  {
   "cell_type": "code",
   "execution_count": 217,
   "metadata": {},
   "outputs": [
    {
     "name": "stdout",
     "output_type": "stream",
     "text": [
      "                              count\n",
      "teach_type                         \n",
      "Official documentation         1422\n",
      "Stack Overflow Q&A             1388\n",
      "Trade book                     1016\n",
      "Non-Stack online communities    898\n",
      "Built-in help                   765\n",
      "Stack Overflow Docs             561\n",
      "Textbook                        424\n",
      "Company internal community      351\n",
      "Friends network                 339\n",
      "Other                           209\n",
      "Tutoring/mentoring               89\n"
     ]
    }
   ],
   "source": [
    "print(clean_multi_answers(question3, 'teach_type', 'SelfTaughtTypes'))"
   ]
  },
  {
   "cell_type": "code",
   "execution_count": 218,
   "metadata": {},
   "outputs": [
    {
     "name": "stdout",
     "output_type": "stream",
     "text": [
      "                              count\n",
      "teach_type                         \n",
      "Official documentation        16708\n",
      "Stack Overflow Q&A            16625\n",
      "Trade book                    10918\n",
      "Non-Stack online communities  10297\n",
      "Built-in help                  9871\n",
      "Stack Overflow Docs            5277\n",
      "Friends network                4266\n",
      "Textbook                       4027\n",
      "Company internal community     3574\n",
      "Other                          2458\n",
      "Tutoring/mentoring              830\n"
     ]
    }
   ],
   "source": [
    "print(clean_multi_answers(rebuttle_question3, 'teach_type', 'SelfTaughtTypes'))"
   ]
  },
  {
   "cell_type": "code",
   "execution_count": 246,
   "metadata": {},
   "outputs": [
    {
     "name": "stdout",
     "output_type": "stream",
     "text": [
      "                count\n",
      "teach_type           \n",
      "Sublime Text      957\n",
      "Visual Studio     913\n",
      "Notepad++         821\n",
      "Vim               673\n",
      "Android Studio    608\n",
      "Atom              607\n",
      "Eclipse           602\n"
     ]
    }
   ],
   "source": [
    "print(clean_multi_answers(question3, 'teach_type', 'IDE')[:7])"
   ]
  },
  {
   "cell_type": "code",
   "execution_count": 245,
   "metadata": {},
   "outputs": [
    {
     "name": "stdout",
     "output_type": "stream",
     "text": [
      "                    count\n",
      "teach_type               \n",
      "Visual Studio       11436\n",
      "Notepad++           10540\n",
      "Vim                  8191\n",
      "Sublime Text         7944\n",
      "Eclipse              6350\n",
      "IntelliJ             6130\n",
      "Visual Studio Code   5649\n"
     ]
    }
   ],
   "source": [
    "print(clean_multi_answers(rebuttle_question3, 'teach_type', 'IDE')[:7])"
   ]
  },
  {
   "cell_type": "code",
   "execution_count": 232,
   "metadata": {},
   "outputs": [
    {
     "data": {
      "text/plain": [
       "A bachelor's degree                                    844\n",
       "Some college/university study, no bachelor's degree    460\n",
       "A master's degree                                      386\n",
       "High school                                            366\n",
       "A professional degree                                  157\n",
       "Primary/elementary school                              152\n",
       "A doctoral degree                                      137\n",
       "No education                                            35\n",
       "I don't know/not sure                                   32\n",
       "I prefer not to answer                                  22\n",
       "Name: HighestEducationParents, dtype: int64"
      ]
     },
     "execution_count": 232,
     "metadata": {},
     "output_type": "execute_result"
    }
   ],
   "source": [
    "question3['HighestEducationParents'].value_counts()"
   ]
  },
  {
   "cell_type": "code",
   "execution_count": 233,
   "metadata": {},
   "outputs": [
    {
     "data": {
      "text/plain": [
       "A bachelor's degree                                    8644\n",
       "A master's degree                                      6733\n",
       "High school                                            5188\n",
       "Some college/university study, no bachelor's degree    4097\n",
       "A doctoral degree                                      1823\n",
       "A professional degree                                  1324\n",
       "Primary/elementary school                              1108\n",
       "I don't know/not sure                                   648\n",
       "I prefer not to answer                                  506\n",
       "No education                                            152\n",
       "Name: HighestEducationParents, dtype: int64"
      ]
     },
     "execution_count": 233,
     "metadata": {},
     "output_type": "execute_result"
    }
   ],
   "source": [
    "rebuttle_question3['HighestEducationParents'].value_counts()"
   ]
  },
  {
   "cell_type": "code",
   "execution_count": 241,
   "metadata": {},
   "outputs": [
    {
     "name": "stdout",
     "output_type": "stream",
     "text": [
      "Median Annual Base Salary: 37817.20430107525\n",
      "Average Annual Base Salary: 47914.20977256485\n",
      "Standard Deviation Annual Base Salary: 40457.677937222936\n"
     ]
    }
   ],
   "source": [
    "print(\"Median Annual Base Salary: {}\".format(np.median(question3[question3['Salary'].notnull()]['Salary'])))\n",
    "print(\"Average Annual Base Salary: {}\".format(np.mean(question3[question3['Salary'].notnull()]['Salary'])))\n",
    "print(\"Standard Deviation Annual Base Salary: {}\".format(np.std(question3[question3['Salary'].notnull()]['Salary'])))"
   ]
  },
  {
   "cell_type": "code",
   "execution_count": 242,
   "metadata": {},
   "outputs": [
    {
     "name": "stdout",
     "output_type": "stream",
     "text": [
      "Median Annual Base Salary: 52500.0\n",
      "Average Annual Base Salary: 58587.48891167357\n",
      "Standard Deviation Annual Base Salary: 39438.69499326545\n"
     ]
    }
   ],
   "source": [
    "print(\"Median Annual Base Salary: {}\".format(np.median(rebuttle_question3[rebuttle_question3['Salary'].notnull()]['Salary'])))\n",
    "print(\"Average Annual Base Salary: {}\".format(np.mean(rebuttle_question3[rebuttle_question3['Salary'].notnull()]['Salary'])))\n",
    "print(\"Standard Deviation Annual Base Salary: {}\".format(np.std(rebuttle_question3[rebuttle_question3['Salary'].notnull()]['Salary'])))"
   ]
  },
  {
   "cell_type": "code",
   "execution_count": 243,
   "metadata": {},
   "outputs": [
    {
     "data": {
      "text/plain": [
       "Yes, I program as a hobby                    1194\n",
       "Yes, both                                     765\n",
       "No                                            499\n",
       "Yes, I contribute to open source projects     154\n",
       "Name: ProgramHobby, dtype: int64"
      ]
     },
     "execution_count": 243,
     "metadata": {},
     "output_type": "execute_result"
    }
   ],
   "source": [
    "question3['ProgramHobby'].value_counts()"
   ]
  },
  {
   "cell_type": "code",
   "execution_count": 244,
   "metadata": {},
   "outputs": [
    {
     "data": {
      "text/plain": [
       "Yes, I program as a hobby                    14836\n",
       "Yes, both                                     8524\n",
       "No                                            5354\n",
       "Yes, I contribute to open source projects     1707\n",
       "Name: ProgramHobby, dtype: int64"
      ]
     },
     "execution_count": 244,
     "metadata": {},
     "output_type": "execute_result"
    }
   ],
   "source": [
    "rebuttle_question3['ProgramHobby'].value_counts()"
   ]
  },
  {
   "cell_type": "code",
   "execution_count": null,
   "metadata": {},
   "outputs": [],
   "source": []
  }
 ],
 "metadata": {
  "kernelspec": {
   "display_name": "Python 3",
   "language": "python",
   "name": "python3"
  },
  "language_info": {
   "codemirror_mode": {
    "name": "ipython",
    "version": 3
   },
   "file_extension": ".py",
   "mimetype": "text/x-python",
   "name": "python",
   "nbconvert_exporter": "python",
   "pygments_lexer": "ipython3",
   "version": "3.6.5"
  }
 },
 "nbformat": 4,
 "nbformat_minor": 2
}
