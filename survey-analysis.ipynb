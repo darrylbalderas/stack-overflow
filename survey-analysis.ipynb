{
 "cells": [
  {
   "cell_type": "markdown",
   "metadata": {},
   "source": [
    "# Introduction\n",
    "This project is to showcase me using the CRISP-DM(Cross-Industry Process for Data Mining)), which is a methodolgy that provides structure when planning for a data mining project, standard on the 2018 Stack Overflow Developers Survey \n",
    "\n",
    "CRISP-DM consists of 6 steps.\n",
    "\n",
    "1. Business understanding\n",
    "2. Data understanding\n",
    "3. Data preparation\n",
    "4. Modeling\n",
    "5. Evaluation\n",
    "6. Deployment\n"
   ]
  },
  {
   "cell_type": "markdown",
   "metadata": {},
   "source": [
    "# Business understanding\n",
    "\n",
    "For my analysis, I would like to take a further dive into the Stack Overflow Developers Survey dataset and understand the answers that my fellow Latinx/Black community gave in the survey\n",
    "\n",
    "Questions that I would like to answer:\n",
    "1. “How many survey entries were from a Latinx or Black race-ethnicity?”\n",
    "2. “Which top 5 countries had the most amount of Latinx participants?”\n",
    "2. “Which top 5 countries had the most amount of Black or of African descent participants?\n",
    "3. “How much did the salary increase from 2017–2018 for Latinx and Black folks?”\n",
    "4. “What was the increase percentage of Latinx/Black participants with Bachelors’, Masters and Postdoctoral degrees?”\n"
   ]
  },
  {
   "cell_type": "markdown",
   "metadata": {},
   "source": [
    "# Data Understanding\n",
    "\n",
    "List of columns that will be used to answer my questions:\n",
    "- Salary\n",
    "- Country \n",
    "- RaceEthnicity\n",
    "- FormalEducation\n",
    "- ConvertedSalary"
   ]
  },
  {
   "cell_type": "code",
   "execution_count": 131,
   "metadata": {},
   "outputs": [
    {
     "name": "stderr",
     "output_type": "stream",
     "text": [
      "/Users/darrylbalderas/projects/stack-overflow/venv/lib/python3.6/site-packages/IPython/core/interactiveshell.py:3049: DtypeWarning: Columns (8,12,13,14,15,16,50,51,52,53,55,56,57,58,59,60,61,62,63,64,65,66,67,68,69,70,71,72,73,74,75,76,77,78,79,80,81,82,83,84,85,93,94,95,96,97,98,99,100,101,102,103,104,105,106,107,108,109,110,111,112,113,114,115,116,117,118,119,120,121,122,123,124,125,126,127,128) have mixed types. Specify dtype option on import or set low_memory=False.\n",
      "  interactivity=interactivity, compiler=compiler, result=result)\n"
     ]
    }
   ],
   "source": [
    "import pandas as pd\n",
    "import numpy as np\n",
    "import seaborn as sb\n",
    "import matplotlib.pyplot as plt\n",
    "from collections import defaultdict\n",
    "%matplotlib inline\n",
    "pd.set_option('display.float_format', lambda x: '%.4f' % x)\n",
    "\n",
    "survey_data2018 = pd.read_csv('survey_results_public2018.csv')\n",
    "survey_data2017 = pd.read_csv('survey_results_public2017.csv')\n",
    "column_of_interest2018 = ['Country','RaceEthnicity','FormalEducation', 'ConvertedSalary']\n",
    "column_of_interest2017 = ['Country','Race','FormalEducation', 'Salary']"
   ]
  },
  {
   "cell_type": "code",
   "execution_count": null,
   "metadata": {},
   "outputs": [],
   "source": []
  },
  {
   "cell_type": "markdown",
   "metadata": {},
   "source": [
    "# Data Preparation\n",
    "\n",
    "\n",
    "\n"
   ]
  },
  {
   "cell_type": "markdown",
   "metadata": {},
   "source": [
    "# Modeling\n",
    "\n",
    "\n"
   ]
  },
  {
   "cell_type": "markdown",
   "metadata": {},
   "source": [
    "# Evaluation\n",
    "\n",
    "\n"
   ]
  },
  {
   "cell_type": "markdown",
   "metadata": {},
   "source": [
    "# Deployment\n",
    "\n",
    "\n"
   ]
  },
  {
   "cell_type": "code",
   "execution_count": 97,
   "metadata": {},
   "outputs": [],
   "source": [
    "def clean_multi_answers(df, index_name, column_name):\n",
    "    \"\"\"\n",
    "    \"\"\"\n",
    "    answer_df = total_count(df, index_name, column_name)\n",
    "    answer_df.set_index(index_name, inplace=True)\n",
    "    return answer_df\n",
    "\n",
    "def total_count(df, index_name, column_name):\n",
    "    \"\"\"\n",
    "    \"\"\"\n",
    "    new_df = df[column_name].value_counts().reset_index()\n",
    "    new_df.rename(columns={'index': index_name, column_name: 'count'}, inplace=True)\n",
    "    counts = defaultdict(int)\n",
    "    for answer in parse_multi_answer(df, column_name):\n",
    "        for idx in range(new_df.shape[0]):\n",
    "            developer_answers = [entry.strip() for entry in new_df[index_name][idx].split(\";\")]\n",
    "            if answer in developer_answers:\n",
    "                counts[answer] += int(new_df['count'][idx])\n",
    "    counts = pd.DataFrame(pd.Series(counts)).reset_index()\n",
    "    counts.columns = [index_name, 'count']\n",
    "    counts.sort_values('count', ascending=False, inplace=True)\n",
    "    return counts\n",
    "\n",
    "def parse_multi_answer(df, column):\n",
    "    \"\"\"\n",
    "    \"\"\"\n",
    "    answers = set()\n",
    "    for idx in df[df[column].notnull()].index:\n",
    "        for entry in df[column].iloc[idx].split(';'):\n",
    "            answers.add(entry.strip())\n",
    "    return answers\n",
    "    \n",
    "def plot_race_distribution(df, title, color='red'):\n",
    "    \"\"\"\n",
    "    \"\"\"\n",
    "    f, ax = plt.subplots(figsize=(10,10))\n",
    "    races = list(df.index)[::-1]\n",
    "    counts = df['count'].values[::-1]/df.sum().values\n",
    "    ax.barh(races, counts, 0.35, color=color)\n",
    "    ax.set_title(title)\n",
    "    ax.set_ylabel('Race')\n",
    "    ax.set_xlabel('Sruvey Entrees Percentage')\n",
    "    plt.savefig('race-ethnicities', bbox_inches = 'tight')\n",
    "    plt.show()\n",
    "    "
   ]
  },
  {
   "cell_type": "code",
   "execution_count": 98,
   "metadata": {},
   "outputs": [],
   "source": [
    "def is_latinx_or_black(ethnicities):\n",
    "    \"\"\"\n",
    "    \"\"\"\n",
    "    return 'Hispanic or Latino/Latina' in ethnicities or 'Black or of African descent' in ethnicities\n",
    "\n",
    "def is_black(ethnicities):\n",
    "    \"\"\"\n",
    "    \"\"\"\n",
    "    return not 'Hispanic or Latino/Latina' in ethnicities and 'Black or of African descent' in ethnicities\n",
    "\n",
    "def is_latinx(ethnicities):\n",
    "    \"\"\"\n",
    "    \"\"\"\n",
    "    return 'Hispanic or Latino/Latina' in ethnicities and not 'Black or of African descent' in ethnicities\n",
    "\n",
    "def is_latinx_and_black(ethnicities):\n",
    "    \"\"\"\n",
    "    \"\"\"\n",
    "    return 'Hispanic or Latino/Latina' in ethnicities and 'Black or of African descent' in ethnicities\n",
    "\n",
    "\n",
    "def get_indexes(df, column, conditional):\n",
    "    \"\"\"\n",
    "    \"\"\"\n",
    "    indexes = []\n",
    "    for idx in range(df.shape[0]):\n",
    "        try:\n",
    "            multi_answers = [answer.strip() for answer in df[column][idx].split(\";\")]\n",
    "            if conditional(multi_answers):\n",
    "                indexes.append(idx)\n",
    "        except Exception as e:\n",
    "            continue\n",
    "    return indexes\n",
    "\n"
   ]
  },
  {
   "cell_type": "code",
   "execution_count": 99,
   "metadata": {},
   "outputs": [
    {
     "name": "stdout",
     "output_type": "stream",
     "text": [
      "                                                    count\n",
      "index_type                                               \n",
      "White or of European descent                        24580\n",
      "South Asian                                          2896\n",
      "Hispanic or Latino/Latina                            1859\n",
      "East Asian                                           1622\n",
      "Middle Eastern                                       1183\n",
      "I prefer not to say                                   873\n",
      "Black or of African descent                           828\n",
      "I don’t know                                          651\n",
      "Native American, Pacific Islander, or Indigenou...    291\n"
     ]
    },
    {
     "data": {
      "image/png": "[encoded data removed]",
      "text/plain": [
       "<Figure size 720x720 with 1 Axes>"
      ]
     },
     "metadata": {
      "needs_background": "light"
     },
     "output_type": "display_data"
    }
   ],
   "source": [
    "races_df = clean_multi_answers(survey_data2017, 'index_type', 'Race')\n",
    "print(races_df)\n",
    "plot_race_distribution(races_df, title=\"Race Ethnicities that filled out 2017 SOD survey\", color=\"purple\")"
   ]
  },
  {
   "cell_type": "code",
   "execution_count": 100,
   "metadata": {},
   "outputs": [
    {
     "name": "stdout",
     "output_type": "stream",
     "text": [
      "                                                    count\n",
      "index_type                                               \n",
      "White or of European descent                        42636\n",
      "South Asian                                          6636\n",
      "Hispanic or Latino/Latina                            3860\n",
      "East Asian                                           2933\n",
      "Middle Eastern                                       2373\n",
      "Black or of African descent                          1585\n",
      "Native American, Pacific Islander, or Indigenou...    445\n"
     ]
    },
    {
     "data": {
      "image/png": "[encoded data removed]",
      "text/plain": [
       "<Figure size 720x720 with 1 Axes>"
      ]
     },
     "metadata": {
      "needs_background": "light"
     },
     "output_type": "display_data"
    }
   ],
   "source": [
    "races_df2018 = clean_multi_answers(survey_data2018, 'index_type', 'RaceEthnicity')\n",
    "print(races_df2018)\n",
    "plot_race_distribution(races_df2018, title=\"Race Ethnicities that filled out 2018 SOD survey\", color=\"blue\")"
   ]
  },
  {
   "cell_type": "code",
   "execution_count": 101,
   "metadata": {},
   "outputs": [
    {
     "name": "stdout",
     "output_type": "stream",
     "text": [
      "\n",
      "2687 individuals reported as Latinx/Black participated in the Stack Overflow Developer survey\n",
      "Latinx/Black account for 7.725% of the Stack Overflow 2017 survey participants\n"
     ]
    }
   ],
   "source": [
    "latinx_black2017 = races_df.index.isin(['Hispanic or Latino/Latina', 'Black or of African descent'])\n",
    "total2017 = np.sum(races_df[latinx_black2017].values)\n",
    "print(\"\\n{} individuals reported as Latinx/Black participated in the Stack Overflow Developer survey\".format(total2017))\n",
    "print(\"Latinx/Black account for {0:.3f}% of the Stack Overflow 2017 survey participants\".format((total2017/np.sum(races_df.values)) * 100))"
   ]
  },
  {
   "cell_type": "code",
   "execution_count": 102,
   "metadata": {},
   "outputs": [
    {
     "name": "stdout",
     "output_type": "stream",
     "text": [
      "\n",
      "5445 individuals reported as Latinx/Black participated in the Stack Overflow Developer survey\n",
      "Latinx/Black account for 9.005% of the Stack Overflow 2018 survey participants\n"
     ]
    }
   ],
   "source": [
    "latinx_black2018 = races_df2018.index.isin(['Hispanic or Latino/Latina', 'Black or of African descent'])\n",
    "total2018 = np.sum(races_df2018[latinx_black2018].values)\n",
    "print(\"\\n{} individuals reported as Latinx/Black participated in the Stack Overflow Developer survey\".format(total2018))\n",
    "print(\"Latinx/Black account for {0:.3f}% of the Stack Overflow 2018 survey participants\".format((total2018/np.sum(races_df2018.values)) * 100))"
   ]
  },
  {
   "cell_type": "code",
   "execution_count": 103,
   "metadata": {},
   "outputs": [
    {
     "name": "stdout",
     "output_type": "stream",
     "text": [
      "There was a 33.92% increase of Latinx/Black Stack Overflow survey participants from 2017 to 2018\n"
     ]
    }
   ],
   "source": [
    "total_increase = (abs(total2017 - total2018) / (total2017 + total2018)) * 100 \n",
    "\n",
    "print(\"There was a {:.2f}% increase of Latinx/Black Stack Overflow survey participants from 2017 to 2018\".format(total_increase))"
   ]
  },
  {
   "cell_type": "code",
   "execution_count": 104,
   "metadata": {},
   "outputs": [],
   "source": [
    "question2_2017 = survey_data2017[column_of_interest2017]\n",
    "question2_2018 = survey_data2018[column_of_interest2018]"
   ]
  },
  {
   "cell_type": "code",
   "execution_count": 105,
   "metadata": {},
   "outputs": [
    {
     "data": {
      "image/png": "[encoded data removed]",
      "text/plain": [
       "<Figure size 432x288 with 1 Axes>"
      ]
     },
     "metadata": {
      "needs_background": "light"
     },
     "output_type": "display_data"
    },
    {
     "data": {
      "image/png": "[encoded data removed]",
      "text/plain": [
       "<Figure size 432x288 with 1 Axes>"
      ]
     },
     "metadata": {
      "needs_background": "light"
     },
     "output_type": "display_data"
    }
   ],
   "source": [
    "#Latinx survey participants\n",
    "df = survey_data2017.loc[get_indexes(question2_2017, \"Race\", is_latinx),:].reset_index()\n",
    "df['Country'].value_counts()[:7][::-1].plot(kind=\"barh\", \n",
    "                                             title=\"Latinx 2017 survey participants\",\n",
    "                                             color=\"blue\")\n",
    "plt.savefig('country2017', bbox_inches = 'tight')\n",
    "plt.show()\n",
    "df = survey_data2018.loc[get_indexes(question2_2018, \"RaceEthnicity\", is_latinx),:].reset_index()\n",
    "df['Country'].value_counts()[:7][::-1].plot(kind=\"barh\", \n",
    "                                             title=\"Latinx 2018 survey participants\",\n",
    "                                             color=\"blue\")\n",
    "plt.savefig('country2018', bbox_inches = 'tight')\n",
    "plt.show()"
   ]
  },
  {
   "cell_type": "code",
   "execution_count": 106,
   "metadata": {},
   "outputs": [
    {
     "data": {
      "image/png": "[encoded data removed]",
      "text/plain": [
       "<Figure size 432x288 with 1 Axes>"
      ]
     },
     "metadata": {
      "needs_background": "light"
     },
     "output_type": "display_data"
    },
    {
     "data": {
      "image/png": "[encoded data removed]",
      "text/plain": [
       "<Figure size 432x288 with 1 Axes>"
      ]
     },
     "metadata": {
      "needs_background": "light"
     },
     "output_type": "display_data"
    }
   ],
   "source": [
    "#Black or of African Descent survey participants\n",
    "df = survey_data2017.loc[get_indexes(question2_2017, \"Race\", is_black),:].reset_index()\n",
    "df['Country'].value_counts()[:7][::-1].plot(kind=\"barh\", \n",
    "                                             title=\"Black or of African Descent 2017 survey participants\",\n",
    "                                             color=\"orange\")\n",
    "plt.savefig('country_black2017', bbox_inches = 'tight')\n",
    "plt.show()\n",
    "df = survey_data2018.loc[get_indexes(question2_2018, \"RaceEthnicity\", is_black),:].reset_index()\n",
    "df['Country'].value_counts()[:7][::-1].plot(kind=\"barh\", \n",
    "                                             title=\"Black or of African Descent 2018 survey participants\",\n",
    "                                             color=\"orange\")\n",
    "plt.savefig('country_black2018', bbox_inches = 'tight')\n",
    "plt.show()"
   ]
  },
  {
   "cell_type": "code",
   "execution_count": 112,
   "metadata": {},
   "outputs": [
    {
     "data": {
      "image/png": "[encoded data removed]",
      "text/plain": [
       "<Figure size 432x288 with 1 Axes>"
      ]
     },
     "metadata": {
      "needs_background": "light"
     },
     "output_type": "display_data"
    },
    {
     "data": {
      "text/plain": [
       "<matplotlib.axes._subplots.AxesSubplot at 0x130f833c8>"
      ]
     },
     "execution_count": 112,
     "metadata": {},
     "output_type": "execute_result"
    },
    {
     "data": {
      "image/png": "[encoded data removed]",
      "text/plain": [
       "<Figure size 432x288 with 1 Axes>"
      ]
     },
     "metadata": {
      "needs_background": "light"
     },
     "output_type": "display_data"
    }
   ],
   "source": [
    "#Both Latinx and Black/African Descent\n",
    "df = survey_data2017.loc[get_indexes(question2_2017, \"Race\", is_latinx_and_black),:].reset_index()\n",
    "df['Country'].value_counts()[:7][::-1].plot(kind=\"barh\", \n",
    "                                             title=\"Latinx and [Black/of African Descent] 2017 survey participants\",\n",
    "                                             color=\"orange\")\n",
    "plt.show()\n",
    "df = survey_data2018.loc[get_indexes(question2_2018, \"RaceEthnicity\", is_latinx_and_black),:].reset_index()\n",
    "df['Country'].value_counts()[:7][::-1].plot(kind=\"barh\", \n",
    "                                             title=\"Latinx and [Black/of African Descent] 2018 survey participants\",\n",
    "                                             color=\"orange\")"
   ]
  },
  {
   "cell_type": "code",
   "execution_count": 108,
   "metadata": {},
   "outputs": [],
   "source": [
    "question3_2018 = survey_data2018[column_of_interest2018]\n",
    "question3_2017 = survey_data2017[column_of_interest2017]"
   ]
  },
  {
   "cell_type": "code",
   "execution_count": 109,
   "metadata": {},
   "outputs": [],
   "source": [
    "def remove_salary_outliers(df, column):\n",
    "    first_qt, third_qt = np.percentile(df[column], [25, 75])\n",
    "    iqr = third_qt - first_qt\n",
    "    criteria = df[column] >  (first_qt - (1.5 * iqr))\n",
    "    criteria2 = df[column] < (third_qt + (1.5 * iqr))    \n",
    "    return df[criteria & criteria2]"
   ]
  },
  {
   "cell_type": "code",
   "execution_count": 110,
   "metadata": {},
   "outputs": [
    {
     "name": "stdout",
     "output_type": "stream",
     "text": [
      "2018 Salary for Latinx/Black StackOverflow Survey Participants\n",
      "count     3355.0000\n",
      "mean     45279.1714\n",
      "std      39038.8424\n",
      "min          0.0000\n",
      "25%      14106.0000\n",
      "50%      33045.0000\n",
      "75%      67721.0000\n",
      "max     168000.0000\n",
      "Name: ConvertedSalary, dtype: float64\n",
      "\n",
      "2017 Salary for Latinx/Black StackOverflow Survey Participants\n",
      "count      807.0000\n",
      "mean     45701.3388\n",
      "std      37395.4095\n",
      "min          1.7158\n",
      "25%      15485.2855\n",
      "50%      36746.4115\n",
      "75%      68181.8182\n",
      "max     150000.0000\n",
      "Name: Salary, dtype: float64\n"
     ]
    }
   ],
   "source": [
    "df = survey_data2018.loc[get_indexes(question3_2018, \"RaceEthnicity\", is_latinx_or_black),:].reset_index()\n",
    "print(\"2018 Salary for Latinx/Black StackOverflow Survey Participants\")\n",
    "df = df[df['ConvertedSalary'].notnull()]\n",
    "df = remove_salary_outliers(df, 'ConvertedSalary')\n",
    "descriptive_stats_2018 = df['ConvertedSalary'].describe()\n",
    "print(descriptive_stats_2018)\n",
    "\n",
    "df = survey_data2017.loc[get_indexes(question3_2017, \"Race\", is_latinx_or_black),:].reset_index()\n",
    "print(\"\\n2017 Salary for Latinx/Black StackOverflow Survey Participants\")\n",
    "df = df[df['Salary'].notnull()]\n",
    "df = remove_salary_outliers(df, 'Salary')\n",
    "descriptive_stats_2017 = df['Salary'].describe()\n",
    "print(descriptive_stats_2017)"
   ]
  },
  {
   "cell_type": "code",
   "execution_count": 113,
   "metadata": {},
   "outputs": [
    {
     "name": "stdout",
     "output_type": "stream",
     "text": [
      "There was a -0.464% percentage salary change from 2017 to 2018 for Latinx and Black around the world\n"
     ]
    }
   ],
   "source": [
    "total = descriptive_stats_2017['mean'] + descriptive_stats_2018['mean'] \n",
    "delta = descriptive_stats_2018['mean'] - descriptive_stats_2017['mean'] \n",
    "print(\"There was a {:0.3f}% percentage salary change from 2017 to 2018 for Latinx and Black around the world\".format( (delta/total) * 100 ))"
   ]
  },
  {
   "cell_type": "code",
   "execution_count": 126,
   "metadata": {},
   "outputs": [],
   "source": [
    "educations = {\"Master\": [\"Master's degree\", \"Master’s degree (MA, MS, M.Eng., MBA, etc.)\"],\n",
    "              \"Bachelor\": [\"Bachelor’s degree (BA, BS, B.Eng., etc.)\", \"Bachelor's degree\"],\n",
    "              \"Doctor\": [\"Other doctoral degree (Ph.D, Ed.D., etc.)\", \"Doctoral degree\"]}\n",
    "def get_education_degrees(education_counts, educations):\n",
    "    \"\"\"\n",
    "    \"\"\"\n",
    "    education_degrees = defaultdict(int)\n",
    "    for e in educations:\n",
    "        for idx in education_counts.index:\n",
    "            if idx in educations[e]:\n",
    "                education_degrees[e] =  education_counts[idx]\n",
    "    return education_degrees"
   ]
  },
  {
   "cell_type": "code",
   "execution_count": 127,
   "metadata": {},
   "outputs": [],
   "source": [
    "question4_2018 = survey_data2018[column_of_interest2018]\n",
    "question4_2017 = survey_data2017[column_of_interest2017]"
   ]
  },
  {
   "cell_type": "code",
   "execution_count": 128,
   "metadata": {},
   "outputs": [
    {
     "name": "stdout",
     "output_type": "stream",
     "text": [
      "Bachelor's degree                                                    1201\n",
      "Some college/university study without earning a bachelor's degree     563\n",
      "Master's degree                                                       369\n",
      "Secondary school                                                      274\n",
      "Professional degree                                                    76\n",
      "Doctoral degree                                                        51\n",
      "Primary/elementary school                                              35\n",
      "I prefer not to answer                                                 32\n",
      "I never completed any formal education                                 11\n",
      "Name: FormalEducation, dtype: int64\n",
      "defaultdict(<class 'int'>, {'Master': 369, 'Bachelor': 1201, 'Doctor': 51})\n"
     ]
    }
   ],
   "source": [
    "df = survey_data2017.loc[get_indexes(question4_2017, \"Race\", is_latinx_or_black),:].reset_index()\n",
    "print(df['FormalEducation'].value_counts())\n",
    "\n",
    "education_2017 = get_education_degrees(df['FormalEducation'].value_counts(), educations)\n",
    "print(education_2017)"
   ]
  },
  {
   "cell_type": "code",
   "execution_count": 129,
   "metadata": {},
   "outputs": [
    {
     "name": "stdout",
     "output_type": "stream",
     "text": [
      "Bachelor’s degree (BA, BS, B.Eng., etc.)                                              2380\n",
      "Some college/university study without earning a degree                                1021\n",
      "Master’s degree (MA, MS, M.Eng., MBA, etc.)                                            756\n",
      "Secondary school (e.g. American high school, German Realschule or Gymnasium, etc.)     445\n",
      "Associate degree                                                                       232\n",
      "Professional degree (JD, MD, etc.)                                                     209\n",
      "Other doctoral degree (Ph.D, Ed.D., etc.)                                               80\n",
      "Primary/elementary school                                                               57\n",
      "I never completed any formal education                                                  26\n",
      "Name: FormalEducation, dtype: int64\n",
      "defaultdict(<class 'int'>, {'Master': 756, 'Bachelor': 2380, 'Doctor': 80})\n"
     ]
    }
   ],
   "source": [
    "df = survey_data2018.loc[get_indexes(question4_2018, \"RaceEthnicity\", is_latinx_or_black),:].reset_index()\n",
    "print(df['FormalEducation'].value_counts())\n",
    "\n",
    "education_2018 = get_education_degrees(df['FormalEducation'].value_counts(), educations)\n",
    "print(education_2018)"
   ]
  },
  {
   "cell_type": "code",
   "execution_count": 130,
   "metadata": {},
   "outputs": [
    {
     "name": "stdout",
     "output_type": "stream",
     "text": [
      "Master increase by 34.40% for Latinx/Black community from 2017 to 2018\n",
      "Bachelor increase by 32.92% for Latinx/Black community from 2017 to 2018\n",
      "Doctor increase by 22.14% for Latinx/Black community from 2017 to 2018\n"
     ]
    }
   ],
   "source": [
    "for e in educations:\n",
    "    total = education_2018[e] + education_2017[e]\n",
    "    delta = education_2018[e] - education_2017[e]\n",
    "    if delta > 0:\n",
    "        print(\"{} increase by {:.2f}% for Latinx/Black community from 2017 to 2018\".format(e, (delta/total) * 100 ))\n",
    "    else:\n",
    "        print(\"{} decrease by {:.2f}% for Latinx/Black community from 2017 to 2018\".format(e, (delta/total) * 100 ))"
   ]
  },
  {
   "cell_type": "code",
   "execution_count": null,
   "metadata": {},
   "outputs": [],
   "source": []
  },
  {
   "cell_type": "code",
   "execution_count": null,
   "metadata": {},
   "outputs": [],
   "source": []
  },
  {
   "cell_type": "code",
   "execution_count": null,
   "metadata": {},
   "outputs": [],
   "source": []
  },
  {
   "cell_type": "code",
   "execution_count": null,
   "metadata": {},
   "outputs": [],
   "source": []
  }
 ],
 "metadata": {
  "kernelspec": {
   "display_name": "Python 3",
   "language": "python",
   "name": "python3"
  },
  "language_info": {
   "codemirror_mode": {
    "name": "ipython",
    "version": 3
   },
   "file_extension": ".py",
   "mimetype": "text/x-python",
   "name": "python",
   "nbconvert_exporter": "python",
   "pygments_lexer": "ipython3",
   "version": "3.6.5"
  }
 },
 "nbformat": 4,
 "nbformat_minor": 2
}
