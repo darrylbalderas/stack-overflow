{
 "cells": [
  {
   "cell_type": "markdown",
   "metadata": {},
   "source": [
    "# Introduction\n",
    "This project is to showcase me using the CRISP-DM(Cross-Industry Process for Data Mining)), which is a methodolgy that provides structure when planning for a data mining project, standard on the 2018 Stack Overflow Developers Survey \n",
    "\n",
    "CRISP-DM consists of 6 steps.\n",
    "\n",
    "1. Business understanding\n",
    "2. Data understanding\n",
    "3. Data preparation\n",
    "4. Modeling\n",
    "5. Evaluation\n",
    "6. Deployment\n"
   ]
  },
  {
   "cell_type": "markdown",
   "metadata": {},
   "source": [
    "# Business understanding\n",
    "\n",
    "For my analysis, I would like to take a further dive into the Stack Overflow Developers Survey dataset and understand the answers that my fellow Latinx/Black community gave in the survey\n",
    "\n",
    "Questions that I would like to answer:\n",
    "\n",
    "~~How many U.S. Latinx/Black participated in the Survey~~ ?\n",
    "\n",
    "~~Which country had the highest of Latinx/Black participating in the Survey~~ ? \n",
    "\n",
    "Which type of education is prominent in the Latinx/Black community according to the survey ?\n",
    "\n",
    "Which programming language is being used the most in the Latinx/Black community according to the survey ?\n",
    "\n",
    "How many years did it take to learn how to code ? \n",
    "\n",
    "\n",
    "Columns that I will be analyzing in the dataset: \n",
    "\n",
    "- Country\n",
    "- Race\n",
    "- FormalEducation\n",
    "- YearsProgram\n",
    "- Salary\n",
    "- Professional\n",
    "- University\n",
    "- EmploymentStatus\n",
    "- EducationTypes\n",
    "- DifficultCommunication\n"
   ]
  },
  {
   "cell_type": "code",
   "execution_count": 29,
   "metadata": {},
   "outputs": [],
   "source": [
    "import pandas as pd\n",
    "import numpy as np\n",
    "import seaborn as sb\n",
    "import matplotlib.pyplot as plt\n",
    "from collections import defaultdict\n",
    "%matplotlib inline"
   ]
  },
  {
   "cell_type": "code",
   "execution_count": 30,
   "metadata": {},
   "outputs": [],
   "source": [
    "survey_data = pd.read_csv('survey_results_public.csv')\n",
    "schema = pd.read_csv('survey_results_schema.csv')"
   ]
  },
  {
   "cell_type": "code",
   "execution_count": 31,
   "metadata": {},
   "outputs": [],
   "source": [
    "def clean_multi_answers(df, index_name, column_name):\n",
    "    '''\n",
    "    INPUT \n",
    "        df - a dataframe holding the Race column\n",
    "    OUTPUT\n",
    "        races_df - a dataframe with the count of people who reported their race\n",
    "    '''\n",
    "    races_df = total_count(df, index_name, column_name)\n",
    "    races_df.set_index(index_name, inplace=True)\n",
    "    return races_df\n",
    "\n",
    "def total_count(df, index_name, column_name):\n",
    "    '''\n",
    "    INPUT:\n",
    "    df - the pandas dataframe you want to search\n",
    "    col1 - the column name you want to look through\n",
    "    col2 - the column you want to count values from\n",
    "    OUTPUT:\n",
    "    counts - a dataframe of each look_for with the count of how often it shows up\n",
    "    '''\n",
    "    new_df = df[column_name].value_counts().reset_index()\n",
    "    new_df.rename(columns={'index': index_name, column_name: 'count'}, inplace=True)\n",
    "    counts = defaultdict(int)\n",
    "    for race in parse_multi_answer(df, column_name):\n",
    "        for idx in range(new_df.shape[0]):\n",
    "            developer_races = [race_entry.strip() for race_entry in new_df[index_name][idx].split(\";\")]\n",
    "            if race in developer_races:\n",
    "                counts[race] += int(new_df['count'][idx])\n",
    "    counts = pd.DataFrame(pd.Series(counts)).reset_index()\n",
    "    counts.columns = [index_name, 'count']\n",
    "    counts.sort_values('count', ascending=False, inplace=True)\n",
    "    return counts\n",
    "\n",
    "\n",
    "def parse_multi_answer(df, column):\n",
    "    races = set()\n",
    "    for idx in df[df[column].notnull()].index:\n",
    "        for entry in df[column].iloc[idx].split(';'):\n",
    "            races.add(entry.strip())\n",
    "    return races\n",
    "\n",
    "def plot_various_race_distribution(df):\n",
    "    f, ax = plt.subplots(figsize=(7,5))\n",
    "    races = list(df.index)[::-1]\n",
    "    counts = df['count'].values[::-1]\n",
    "    ax.barh(races, counts, 0.35, alpha=0.4, color='r')\n",
    "    ax.set_title(\"Different Races that filled out SOD survey\")   \n",
    "    plt.show()\n",
    "    \n",
    "def plot_latinx_black_distribution(df):\n",
    "    f, ax = plt.subplots(figsize=(10,3))\n",
    "    values_to_show = df.index.isin(['Hispanic or Latino/Latina', 'Black or of African descent'])\n",
    "    races = list(df[values_to_show].index)[::-1]\n",
    "    counts = df[values_to_show]['count'].values[::-1]\n",
    "    ax.barh(races, counts, 0.35, alpha=0.4, color='b')\n",
    "    ax.set_title('Latinx/Black participants that filled SOD survey') \n",
    "    plt.show()\n",
    "    "
   ]
  },
  {
   "cell_type": "code",
   "execution_count": 32,
   "metadata": {},
   "outputs": [
    {
     "data": {
      "image/png": "[encoded data removed]",
      "text/plain": [
       "<Figure size 504x360 with 1 Axes>"
      ]
     },
     "metadata": {
      "needs_background": "light"
     },
     "output_type": "display_data"
    },
    {
     "data": {
      "image/png": "[encoded data removed]",
      "text/plain": [
       "<Figure size 720x216 with 1 Axes>"
      ]
     },
     "metadata": {
      "needs_background": "light"
     },
     "output_type": "display_data"
    }
   ],
   "source": [
    "races_df = clean_multi_answers(survey_data, 'index_type', 'Race')\n",
    "plot_various_race_distribution(races_df)\n",
    "plot_latinx_black_distribution(races_df)"
   ]
  },
  {
   "cell_type": "code",
   "execution_count": 33,
   "metadata": {},
   "outputs": [
    {
     "name": "stdout",
     "output_type": "stream",
     "text": [
      "\n",
      "2687 individuals reported as Latinx/Black participated in the Stack Overflow Developer survey\n"
     ]
    }
   ],
   "source": [
    "values = races_df.index.isin(['Hispanic or Latino/Latina', 'Black or of African descent'])\n",
    "total = np.sum(races_df[values].values)\n",
    "\n",
    "print(\"\\n{} individuals reported as Latinx/Black participated in the Stack Overflow Developer survey\".format(total))"
   ]
  },
  {
   "cell_type": "code",
   "execution_count": 34,
   "metadata": {},
   "outputs": [],
   "source": [
    "question2 = survey_data[['Country',\n",
    "'Race',\n",
    "'FormalEducation',\n",
    "'YearsProgram',\n",
    "'Professional',\n",
    "'University',\n",
    "'EmploymentStatus',\n",
    "'EducationTypes',\n",
    "'DifficultCommunication']]\n"
   ]
  },
  {
   "cell_type": "code",
   "execution_count": 75,
   "metadata": {},
   "outputs": [],
   "source": [
    "def get_indexes_latinx_and_black(df):\n",
    "    indexes = []\n",
    "    for idx in range(df.shape[0]):\n",
    "        try:\n",
    "            developer_races = [race_entry.strip() for race_entry in df['Race'][idx].split(\";\")]\n",
    "            if 'Hispanic or Latino/Latina' in developer_races or 'Black or of African descent' in developer_races:\n",
    "                indexes.append(idx)\n",
    "        except:\n",
    "            continue\n",
    "    return indexes\n",
    "\n",
    "def get_indexes_latinx(df):\n",
    "    indexes = []\n",
    "    for idx in range(df.shape[0]):\n",
    "        try:\n",
    "            developer_races = [race_entry.strip() for race_entry in df['Race'][idx].split(\";\")]\n",
    "            if 'Hispanic or Latino/Latina' in developer_races:\n",
    "                indexes.append(idx)\n",
    "        except:\n",
    "            continue\n",
    "    return indexes\n",
    "\n",
    "def get_indexes_black(df):\n",
    "    indexes = []\n",
    "    for idx in range(df.shape[0]):\n",
    "        try:\n",
    "            developer_races = [race_entry.strip() for race_entry in df['Race'][idx].split(\";\")]\n",
    "            if 'Black or of African descent' in developer_races:\n",
    "                indexes.append(idx)\n",
    "        except:\n",
    "            continue\n",
    "    return indexes"
   ]
  },
  {
   "cell_type": "code",
   "execution_count": 89,
   "metadata": {},
   "outputs": [
    {
     "data": {
      "text/plain": [
       "United States     609\n",
       "Brazil            265\n",
       "Mexico            208\n",
       "Spain             163\n",
       "Argentina         109\n",
       "Nigeria            94\n",
       "Colombia           92\n",
       "United Kingdom     76\n",
       "Canada             67\n",
       "Chile              67\n",
       "Name: Country, dtype: int64"
      ]
     },
     "execution_count": 89,
     "metadata": {},
     "output_type": "execute_result"
    }
   ],
   "source": [
    "#Both Latinx and African Descent\n",
    "df = survey_data.loc[get_indexes_latinx_and_black(question2),:].reset_index()\n",
    "df['Country'].value_counts()[:10]"
   ]
  },
  {
   "cell_type": "code",
   "execution_count": 88,
   "metadata": {},
   "outputs": [
    {
     "data": {
      "text/plain": [
       "United States    416\n",
       "Brazil           243\n",
       "Mexico           208\n",
       "Spain            163\n",
       "Argentina        109\n",
       "Colombia          91\n",
       "Chile             67\n",
       "Germany           44\n",
       "Canada            43\n",
       "Peru              41\n",
       "Name: Country, dtype: int64"
      ]
     },
     "execution_count": 88,
     "metadata": {},
     "output_type": "execute_result"
    }
   ],
   "source": [
    "#Both Latinx\n",
    "df = survey_data.loc[get_indexes_latinx(question2),:].reset_index()\n",
    "df['Country'].value_counts()[:10]"
   ]
  },
  {
   "cell_type": "code",
   "execution_count": 87,
   "metadata": {},
   "outputs": [
    {
     "data": {
      "text/plain": [
       "United States     207\n",
       "Nigeria            94\n",
       "Kenya              51\n",
       "United Kingdom     48\n",
       "South Africa       44\n",
       "Brazil             37\n",
       "France             34\n",
       "Canada             28\n",
       "Ghana              23\n",
       "Germany            17\n",
       "Name: Country, dtype: int64"
      ]
     },
     "execution_count": 87,
     "metadata": {},
     "output_type": "execute_result"
    }
   ],
   "source": [
    "#African Descent\n",
    "df = survey_data.loc[get_indexes_black(question2),:].reset_index()\n",
    "df['Country'].value_counts()[:10]"
   ]
  },
  {
   "cell_type": "code",
   "execution_count": null,
   "metadata": {},
   "outputs": [],
   "source": []
  }
 ],
 "metadata": {
  "kernelspec": {
   "display_name": "Python 3",
   "language": "python",
   "name": "python3"
  },
  "language_info": {
   "codemirror_mode": {
    "name": "ipython",
    "version": 3
   },
   "file_extension": ".py",
   "mimetype": "text/x-python",
   "name": "python",
   "nbconvert_exporter": "python",
   "pygments_lexer": "ipython3",
   "version": "3.6.5"
  }
 },
 "nbformat": 4,
 "nbformat_minor": 2
}
